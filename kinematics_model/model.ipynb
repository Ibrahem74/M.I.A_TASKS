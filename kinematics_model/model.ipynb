{
 "cells": [
  {
   "cell_type": "code",
   "execution_count": 304,
   "metadata": {},
   "outputs": [],
   "source": [
    "import numpy as np\n",
    "import math"
   ]
  },
  {
   "cell_type": "markdown",
   "metadata": {},
   "source": [
    "## 1- Forward kinematics"
   ]
  },
  {
   "cell_type": "markdown",
   "metadata": {},
   "source": [
    "![shato robot](shato.png)"
   ]
  },
  {
   "cell_type": "markdown",
   "metadata": {},
   "source": [
    "![kinematics](kinematics.png)"
   ]
  },
  {
   "cell_type": "code",
   "execution_count": 305,
   "metadata": {},
   "outputs": [
    {
     "name": "stdout",
     "output_type": "stream",
     "text": [
      "Vx = 0.5\n",
      "Vy = 0.3\n",
      "Wz = -1.67\n"
     ]
    }
   ],
   "source": [
    "r = 0.04\n",
    "lx = 0.15\n",
    "ly = 0.15 \n",
    "lt = lx + ly \n",
    "\n",
    "W1 = 20\n",
    "W2 = 10\n",
    "W3 = 30\n",
    "W4 = -10\n",
    "\n",
    "\n",
    "Vx = (W1 + W2 + W3 + W4) * (r/4)\n",
    "Vy = (-W1 + W2 + W3 - W4) * (r/4)\n",
    "Wz = (-W1 + W2 - W3 + W4) * (r / (4 * lt))\n",
    "\n",
    "print(f\"Vx = {np.round(Vx, 2)}\")\n",
    "print(f\"Vy = {np.round(Vy, 2)}\")\n",
    "print(f\"Wz = {np.round(Wz, 2)}\")"
   ]
  },
  {
   "cell_type": "markdown",
   "metadata": {},
   "source": [
    "### 1.1- GLobal frame"
   ]
  },
  {
   "cell_type": "code",
   "execution_count": 306,
   "metadata": {},
   "outputs": [
    {
     "name": "stdout",
     "output_type": "stream",
     "text": [
      "Vgx = 0.14\n",
      "Vgy = 0.57\n",
      "Wg = -1.67\n"
     ]
    }
   ],
   "source": [
    "theta = 45\n",
    "\n",
    "Vgx = (Vx * np.cos(theta * (np.pi / 180.0))) - (Vy * np.sin(theta * (np.pi / 180.0)))\n",
    "Vgy = (Vx * np.sin(theta * (np.pi / 180.0))) + (Vy * np.cos(theta * (np.pi / 180.0)))\n",
    "Wg = Wz\n",
    "\n",
    "print(f\"Vgx = {np.round(Vgx, 2)}\")\n",
    "print(f\"Vgy = {np.round(Vgy, 2)}\")\n",
    "print(f\"Wg = {np.round(Wg, 2)}\") \n"
   ]
  },
  {
   "cell_type": "markdown",
   "metadata": {},
   "source": [
    "### 1.2- Matrix Form\n",
    "$$\n",
    "\\begin{bmatrix}\n",
    "V_{x}\\\\\n",
    "V_{y} \\\\\n",
    "W_{z}\n",
    "\\end{bmatrix}\n",
    "=\n",
    "r/4\n",
    "\\begin{bmatrix}\n",
    "1 & 1 & 1 & 1 \\\\\n",
    "-1 & 1 & 1  & -1 \\\\\n",
    "-\\frac{1}{l_{x} + l_{y}} & \\frac{1}{l_{x} + l_{y}} & -\\frac{1}{l_{x} + l_{y}} & \\frac{1}{l_{x} + l_{y}}\n",
    "\\end{bmatrix}\n",
    "\n",
    "\\begin{bmatrix}\n",
    "W_{1}\\\\\n",
    "W_{2} \\\\\n",
    "W_{3} \\\\\n",
    "W_{4}\n",
    "\\end{bmatrix}\n"
   ]
  },
  {
   "cell_type": "code",
   "execution_count": 307,
   "metadata": {},
   "outputs": [
    {
     "name": "stdout",
     "output_type": "stream",
     "text": [
      "[[ 0.5 ]\n",
      " [ 0.3 ]\n",
      " [-1.67]]\n"
     ]
    }
   ],
   "source": [
    "r = 0.04\n",
    "lx = 0.15\n",
    "ly = 0.15 \n",
    "lt = lx + ly \n",
    "\n",
    "W1 = 20\n",
    "W2 = 10\n",
    "W3 = 30\n",
    "W4 = -10\n",
    "\n",
    "kinematics = np.array([[1, 1 , 1 , 1], [-1, 1, 1, -1], [(-1/lt), (1/lt), (-1/lt), (1/lt)]])\n",
    "W = np.array([[W1], [W2], [W3], [W4]])\n",
    "\n",
    "matrix_mult = kinematics @ W\n",
    "Vl = (r/4) * matrix_mult\n",
    "print(np.round(Vl, 2))\n"
   ]
  },
  {
   "cell_type": "markdown",
   "metadata": {},
   "source": [
    "$$\n",
    "R_{\\theta} = \\begin{bmatrix}\n",
    "\\cos(\\theta) & -\\sin(\\theta) & 0 \\\\\n",
    "\\sin(\\theta) & \\cos(\\theta)  & 0  \\\\\n",
    "     0       &      0        & 1\n",
    "\\end{bmatrix}\n",
    "$$\n"
   ]
  },
  {
   "cell_type": "code",
   "execution_count": 308,
   "metadata": {},
   "outputs": [
    {
     "name": "stdout",
     "output_type": "stream",
     "text": [
      "[[ 0.5 ]\n",
      " [ 0.3 ]\n",
      " [-1.67]]\n",
      "[[ 0.14]\n",
      " [ 0.57]\n",
      " [-1.67]]\n"
     ]
    }
   ],
   "source": [
    "theta = 45\n",
    "\n",
    "R = np.array([[np.cos(theta * (np.pi / 180.0)), -np.sin(theta * (np.pi / 180.0)), 0],\n",
    "              [np.sin(theta * (np.pi / 180.0)), np.cos(theta * (np.pi / 180.0)), 0 ],\n",
    "              [0, 0, 1]])\n",
    "\n",
    "Vg = R @ Vl\n",
    "\n",
    "print(np.round(Vl, 2))\n",
    "print(np.round(Vg, 2))\n"
   ]
  },
  {
   "cell_type": "markdown",
   "metadata": {},
   "source": [
    "### 1.3- Inverse Kinematics\n"
   ]
  },
  {
   "cell_type": "code",
   "execution_count": 309,
   "metadata": {},
   "outputs": [
    {
     "name": "stdout",
     "output_type": "stream",
     "text": [
      "[[17.5]\n",
      " [ 7.5]\n",
      " [32.5]\n",
      " [-7.5]]\n"
     ]
    }
   ],
   "source": [
    "W = (np.linalg.pinv(kinematics) @ Vl) * (4.0/r)\n",
    "print(np.round(W,2))\n"
   ]
  }
 ],
 "metadata": {
  "kernelspec": {
   "display_name": "Python 3",
   "language": "python",
   "name": "python3"
  },
  "language_info": {
   "codemirror_mode": {
    "name": "ipython",
    "version": 3
   },
   "file_extension": ".py",
   "mimetype": "text/x-python",
   "name": "python",
   "nbconvert_exporter": "python",
   "pygments_lexer": "ipython3",
   "version": "3.8.10"
  }
 },
 "nbformat": 4,
 "nbformat_minor": 2
}
